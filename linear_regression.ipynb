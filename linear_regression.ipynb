{
 "cells": [
  {
   "cell_type": "markdown",
   "metadata": {},
   "source": [
    "Linear regression is used to predict the value of a continuous variable `Y` based on one or more input predictor variables `X`. The aim is to establish a mathematical formula between the the response variable `Y` and the predictor variables `X`. You can use this formula to predict `Y`, when only `X` values are known."
   ]
  },
  {
   "cell_type": "markdown",
   "metadata": {},
   "source": [
    "#### Introduction to Linear Regression"
   ]
  },
  {
   "cell_type": "markdown",
   "metadata": {},
   "source": [
    "Linear regression is one of the most commonly used predictive modelling techniques. The aim of linear regression is to find a mathematical equation for a continuous response variable `Y` as a function of one or more `X` variable(s). So that you can use this regression model to predict the `Y` when only the `X` is known.\n",
    "\n",
    "This mathematical equation can be generalised as follows:\n",
    "\n",
    "$$Y = \\beta_{1} + \\beta_{2} X + \\epsilon$$\n",
    "where, β1 is the intercept and β2 is the slope.\n",
    "\n",
    "Collectively, they are called regression coefficients and `ϵ` is the error term."
   ]
  },
  {
   "cell_type": "markdown",
   "metadata": {},
   "source": [
    "#### Example Problem"
   ]
  },
  {
   "cell_type": "markdown",
   "metadata": {},
   "source": [
    "For this analysis, we will use the `cars` dataset that comes with R by default.\n",
    "\n",
    "`cars` is a standard built-in dataset, that makes it convenient to show linear regression in a simple and easy to understand fashion.\n",
    "\n",
    "You can access this dataset by typing in `cars` in your R console.\n",
    "\n",
    "You will find that it consists of 50 observations(rows) and 2 variables (columns) – dist and speed.\n",
    "\n",
    "Lets print out the first six observations here."
   ]
  },
  {
   "cell_type": "code",
   "execution_count": 39,
   "metadata": {},
   "outputs": [
    {
     "data": {
      "text/html": [
       "<table>\n",
       "<thead><tr><th scope=col>speed</th><th scope=col>dist</th></tr></thead>\n",
       "<tbody>\n",
       "\t<tr><td>4 </td><td> 2</td></tr>\n",
       "\t<tr><td>4 </td><td>10</td></tr>\n",
       "\t<tr><td>7 </td><td> 4</td></tr>\n",
       "\t<tr><td>7 </td><td>22</td></tr>\n",
       "\t<tr><td>8 </td><td>16</td></tr>\n",
       "\t<tr><td>9 </td><td>10</td></tr>\n",
       "</tbody>\n",
       "</table>\n"
      ],
      "text/latex": [
       "\\begin{tabular}{r|ll}\n",
       " speed & dist\\\\\n",
       "\\hline\n",
       "\t 4  &  2\\\\\n",
       "\t 4  & 10\\\\\n",
       "\t 7  &  4\\\\\n",
       "\t 7  & 22\\\\\n",
       "\t 8  & 16\\\\\n",
       "\t 9  & 10\\\\\n",
       "\\end{tabular}\n"
      ],
      "text/markdown": [
       "\n",
       "speed | dist | \n",
       "|---|---|---|---|---|---|\n",
       "| 4  |  2 | \n",
       "| 4  | 10 | \n",
       "| 7  |  4 | \n",
       "| 7  | 22 | \n",
       "| 8  | 16 | \n",
       "| 9  | 10 | \n",
       "\n",
       "\n"
      ],
      "text/plain": [
       "  speed dist\n",
       "1 4      2  \n",
       "2 4     10  \n",
       "3 7      4  \n",
       "4 7     22  \n",
       "5 8     16  \n",
       "6 9     10  "
      ]
     },
     "metadata": {},
     "output_type": "display_data"
    }
   ],
   "source": [
    "head(cars)"
   ]
  },
  {
   "cell_type": "markdown",
   "metadata": {},
   "source": [
    "The goal here is to establish a mathematical equation for `dist` as a function of `speed`, so you can use it to predict `dist` when only the `speed` of the car is known.\n",
    "\n",
    "So it is desirable to build a linear regression model with the response variable as dist and the predictor as `speed`.\n",
    "\n",
    "Before we begin building the regression model, it is a good practice to analyse and understand the variables.\n",
    "\n",
    "The graphical analysis and correlation study below will help with this."
   ]
  },
  {
   "cell_type": "markdown",
   "metadata": {},
   "source": [
    "#### Graphical Analysis"
   ]
  },
  {
   "cell_type": "markdown",
   "metadata": {},
   "source": [
    "The aim of this exercise is to build a simple regression model that you can use to predict Distance (dist).\n",
    "\n",
    "This is possible by establishing a mathematical formula between Distance (dist) and Speed (speed).\n",
    "\n",
    "But before jumping in to the syntax, lets try to understand these variables graphically.\n",
    "\n",
    "Typically, for each of the predictors, the following plots help visualise the patterns:\n",
    "\n",
    "Scatter plot: Visualise the linear relationship between the predictor and response\n",
    "\n",
    "Box plot: To spot any outlier observations in the variable. Having outliers in your predictor can drastically affect the predictions as they can affect the direction/slope of the line of best fit.\n",
    "\n",
    "Density plot: To see the distribution of the predictor variable. Ideally, a close to normal distribution (a bell shaped curve), without being skewed to the left or right is preferred.\n",
    "\n",
    "Let us see how to make each one of them."
   ]
  },
  {
   "cell_type": "markdown",
   "metadata": {},
   "source": [
    "#### Scatter Plot To Visualise The Relationship"
   ]
  },
  {
   "cell_type": "markdown",
   "metadata": {},
   "source": [
    "Scatter plots can help visualise linear relationships between the response and predictor variables.\n",
    "\n",
    "Ideally, if you have many predictor variables, a scatter plot is drawn for each one of them against the response, along with the line of best fit as seen below."
   ]
  },
  {
   "cell_type": "code",
   "execution_count": 40,
   "metadata": {},
   "outputs": [
    {
     "data": {
      "image/png": "[encoded data removed]",
      "text/plain": [
       "Plot with title “Dist vs Speed”"
      ]
     },
     "metadata": {},
     "output_type": "display_data"
    }
   ],
   "source": [
    "scatter.smooth(x=cars$speed, y=cars$dist, main=\"Dist vs Speed\")  # scatterplot"
   ]
  },
  {
   "cell_type": "markdown",
   "metadata": {},
   "source": [
    "The scatter plot along with the smoothing line above suggests a linear and positive relationship between the `dist` and `speed`.\n",
    "This is a good thing.\n",
    "Because, one of the underlying assumptions of linear regression is, the relationship between the response and predictor variables is linear and additive."
   ]
  },
  {
   "cell_type": "markdown",
   "metadata": {},
   "source": [
    "#### BoxPlot To Check For Outliers"
   ]
  },
  {
   "cell_type": "code",
   "execution_count": 41,
   "metadata": {},
   "outputs": [
    {
     "data": {
      "image/png": "[encoded data removed]",
      "text/plain": [
       "Plot with title “Distance”"
      ]
     },
     "metadata": {},
     "output_type": "display_data"
    }
   ],
   "source": [
    "par(mfrow=c(1, 2))  # divide graph area in 2 columns\n",
    "\n",
    "boxplot(cars$speed, main=\"Speed\", sub=paste(\"Outlier rows: \", boxplot.stats(cars$speed)$out))  # box plot for 'speed'\n",
    "\n",
    "boxplot(cars$dist, main=\"Distance\", sub=paste(\"Outlier rows: \", boxplot.stats(cars$dist)$out))  # box plot for 'distance'"
   ]
  },
  {
   "cell_type": "markdown",
   "metadata": {},
   "source": [
    "#### Density Plot"
   ]
  },
  {
   "cell_type": "code",
   "execution_count": 42,
   "metadata": {},
   "outputs": [
    {
     "data": {
      "image/png": "[encoded data removed]",
      "text/plain": [
       "Plot with title “Density Plot: Distance”"
      ]
     },
     "metadata": {},
     "output_type": "display_data"
    }
   ],
   "source": [
    "library(e1071)  # for skewness function\n",
    "par(mfrow=c(1, 2))  # divide graph area in 2 columns\n",
    "\n",
    "plot(density(cars$speed), main=\"Density Plot: Speed\", ylab=\"Frequency\", sub=paste(\"Skewness:\", round(e1071::skewness(cars$speed), 2)))  # density plot for 'speed'\n",
    "\n",
    "polygon(density(cars$speed), col=\"red\")\n",
    "\n",
    "plot(density(cars$dist), main=\"Density Plot: Distance\", ylab=\"Frequency\", sub=paste(\"Skewness:\", round(e1071::skewness(cars$dist), 2)))  # density plot for 'dist'\n",
    "\n",
    "polygon(density(cars$dist), col=\"red\")"
   ]
  },
  {
   "cell_type": "markdown",
   "metadata": {},
   "source": [
    "#### Correlation Analysis"
   ]
  },
  {
   "cell_type": "markdown",
   "metadata": {},
   "source": [
    "Correlation analysis studies the strength of relationship between two continuous variables. It involves computing the correlation coefficient between the the two variables.\n",
    "\n",
    "So what is correlation? And how is it helpful in linear regression?\n",
    "\n",
    "Correlation is a statistical measure that shows the degree of linear dependence between two variables.  \n",
    "In order to compute correlation, the two variables must occur in pairs, just like what we have here with speed and dist.  \n",
    "Correlation can take values between -1 to +1.  \n",
    "If one variables consistently increases with increasing value of the other, then they have a strong positive correlation (value close to +1).  \n",
    "Similarly, if one consistently decreases when the other increase, they have a strong negative correlation (value close to -1). \n",
    "A value closer to 0 suggests a weak relationship between the variables."
   ]
  },
  {
   "cell_type": "markdown",
   "metadata": {},
   "source": [
    "However, correlation doesn’t imply causation.  \n",
    "In other words, if two variables have high correlation, it does not mean one variable ’causes’ the value of the other variable to increase.  \n",
    "Correlation is only an aid to understand the relationship."
   ]
  },
  {
   "cell_type": "code",
   "execution_count": 43,
   "metadata": {},
   "outputs": [
    {
     "data": {
      "text/html": [
       "0.80689490068921"
      ],
      "text/latex": [
       "0.80689490068921"
      ],
      "text/markdown": [
       "0.80689490068921"
      ],
      "text/plain": [
       "[1] 0.8068949"
      ]
     },
     "metadata": {},
     "output_type": "display_data"
    }
   ],
   "source": [
    "#Simply use the cor() function with the two numeric variables as arguments to compute correlation.\n",
    "cor(cars$speed, cars$dist)"
   ]
  },
  {
   "cell_type": "markdown",
   "metadata": {},
   "source": [
    "#### Building the Linear Regression Model"
   ]
  },
  {
   "cell_type": "markdown",
   "metadata": {},
   "source": [
    "Now that you have seen the linear relationship pictorially in the scatter plot and through correlation, let’s try building the linear regression model.\n",
    "\n",
    "The function used for building linear models is `lm()`.\n",
    "\n",
    "The `lm()` function takes in two main arguments:  \n",
    "Formula  \n",
    "Data  "
   ]
  },
  {
   "cell_type": "code",
   "execution_count": 44,
   "metadata": {},
   "outputs": [
    {
     "name": "stdout",
     "output_type": "stream",
     "text": [
      "\n",
      "Call:\n",
      "lm(formula = dist ~ speed, data = cars)\n",
      "\n",
      "Coefficients:\n",
      "(Intercept)        speed  \n",
      "    -17.579        3.932  \n",
      "\n"
     ]
    }
   ],
   "source": [
    "lm_Mod <- lm(dist ~ speed, data=cars)  # build linear regression model on full data\n",
    "print(lm_Mod)"
   ]
  },
  {
   "cell_type": "markdown",
   "metadata": {},
   "source": [
    "By building the linear regression model, we have established the relationship between the predictor and response in the form of a mathematical formula.\n",
    "\n",
    "That is Distance (dist) as a function for speed.\n",
    "\n",
    "For the above output, you can notice the ‘Coefficients’ part having two components: Intercept: -17.579, speed: 3.932.\n",
    "\n",
    "These are also called the beta coefficients. In other words,\n",
    "\n",
    "$$dist = Intercept + (β ∗ speed)$$\n",
    "\n",
    "`dist = −17.579 + 3.932∗speed`"
   ]
  },
  {
   "cell_type": "markdown",
   "metadata": {},
   "source": [
    "#### Diagnostics"
   ]
  },
  {
   "cell_type": "markdown",
   "metadata": {},
   "source": [
    "Now the linear model is built and you have a formula that you can use to predict the dist value if a corresponding speed is known.  \n",
    "But this is actually not enough to use this model.  \n",
    "Because, before using a regression model to make predictions, you need to ensure that it is statistically significant. But How do you ensure this?  \n",
    "Lets begin by printing the summary statistics for linearMod."
   ]
  },
  {
   "cell_type": "code",
   "execution_count": 45,
   "metadata": {},
   "outputs": [
    {
     "data": {
      "text/plain": [
       "\n",
       "Call:\n",
       "lm(formula = dist ~ speed, data = cars)\n",
       "\n",
       "Residuals:\n",
       "    Min      1Q  Median      3Q     Max \n",
       "-29.069  -9.525  -2.272   9.215  43.201 \n",
       "\n",
       "Coefficients:\n",
       "            Estimate Std. Error t value Pr(>|t|)    \n",
       "(Intercept) -17.5791     6.7584  -2.601   0.0123 *  \n",
       "speed         3.9324     0.4155   9.464 1.49e-12 ***\n",
       "---\n",
       "Signif. codes:  0 ‘***’ 0.001 ‘**’ 0.01 ‘*’ 0.05 ‘.’ 0.1 ‘ ’ 1\n",
       "\n",
       "Residual standard error: 15.38 on 48 degrees of freedom\n",
       "Multiple R-squared:  0.6511,\tAdjusted R-squared:  0.6438 \n",
       "F-statistic: 89.57 on 1 and 48 DF,  p-value: 1.49e-12\n"
      ]
     },
     "metadata": {},
     "output_type": "display_data"
    }
   ],
   "source": [
    "summary(lm_Mod)"
   ]
  },
  {
   "cell_type": "markdown",
   "metadata": {},
   "source": [
    "The Summary Stats above tells us a number of things,but for the sake of this tutorial we will only explore `p-value` which is widely considered"
   ]
  },
  {
   "cell_type": "markdown",
   "metadata": {},
   "source": [
    "#### Checking For Statistical Significance using p Value "
   ]
  },
  {
   "cell_type": "markdown",
   "metadata": {},
   "source": [
    "The p-Values are very important.  \n",
    "p-Value (in last line) and the p-Value of individual predictor variables (extreme right column under ‘Coefficients’).  \n",
    "Because, we can consider a linear model to be statistically significant only when both these p-Values are less than the pre-determined statistical significance level of 0.05.  \n",
    "This can visually interpreted by the significance stars at the end of the row against each X variable.  \n",
    "The more the stars beside the variable’s p-Value, the more significant the variable.  "
   ]
  },
  {
   "cell_type": "markdown",
   "metadata": {},
   "source": [
    "#### Predicting Linear Models"
   ]
  },
  {
   "cell_type": "markdown",
   "metadata": {},
   "source": [
    "So far you have seen how to build a linear regression model using the whole dataset. If you build it that way, there is no way to tell how the model will perform with new data.  \n",
    "So the preferred practice is to split your dataset into a 80:20 sample (training:test), then, build the model on the 80% sample and then use the model thus built to predict the dependent variable on test data.  \n",
    "Doing it this way, we will have the model predicted values for the 20% data (test) as well as the actuals (from the original dataset).  \n",
    "By calculating accuracy measures (like min_max accuracy) and error rates (MAPE or MSE), you can find out the prediction accuracy of the model.  \n",
    "Now, lets see how to actually do this."
   ]
  },
  {
   "cell_type": "markdown",
   "metadata": {},
   "source": [
    "#### Create the training and test data"
   ]
  },
  {
   "cell_type": "code",
   "execution_count": 46,
   "metadata": {},
   "outputs": [],
   "source": [
    "# Create Training and Test data -\n",
    "set.seed(100)  # setting seed to reproduce results of random sampling\n",
    "trainingRowIndex <- sample(1:nrow(cars), 0.8*nrow(cars))  # row indices for training data\n",
    "trainingData <- cars[trainingRowIndex, ]  # model training data\n",
    "testData  <- cars[-trainingRowIndex, ]   # test data"
   ]
  },
  {
   "cell_type": "markdown",
   "metadata": {},
   "source": [
    "#### Fit the model on training data and predict dist on test data"
   ]
  },
  {
   "cell_type": "code",
   "execution_count": 47,
   "metadata": {},
   "outputs": [],
   "source": [
    "lmMod <- lm(dist ~ speed, data=trainingData)  # build the model\n",
    "distPred <- predict(lmMod, testData)  # predict distance"
   ]
  },
  {
   "cell_type": "markdown",
   "metadata": {},
   "source": [
    "#### Measures"
   ]
  },
  {
   "cell_type": "code",
   "execution_count": 48,
   "metadata": {},
   "outputs": [
    {
     "data": {
      "text/plain": [
       "\n",
       "Call:\n",
       "lm(formula = dist ~ speed, data = trainingData)\n",
       "\n",
       "Residuals:\n",
       "    Min      1Q  Median      3Q     Max \n",
       "-23.350 -10.771  -2.137   9.255  42.231 \n",
       "\n",
       "Coefficients:\n",
       "            Estimate Std. Error t value Pr(>|t|)    \n",
       "(Intercept)  -22.657      7.999  -2.833  0.00735 ** \n",
       "speed          4.316      0.487   8.863 8.73e-11 ***\n",
       "---\n",
       "Signif. codes:  0 ‘***’ 0.001 ‘**’ 0.01 ‘*’ 0.05 ‘.’ 0.1 ‘ ’ 1\n",
       "\n",
       "Residual standard error: 15.84 on 38 degrees of freedom\n",
       "Multiple R-squared:  0.674,\tAdjusted R-squared:  0.6654 \n",
       "F-statistic: 78.56 on 1 and 38 DF,  p-value: 8.734e-11\n"
      ]
     },
     "metadata": {},
     "output_type": "display_data"
    }
   ],
   "source": [
    "summary(lmMod)  # model summary"
   ]
  },
  {
   "cell_type": "markdown",
   "metadata": {},
   "source": [
    "From the model summary, the model p value and predictor’s p value are less than the significance level.  \n",
    "So you have a statistically significant model.  \n",
    "Also, the R-Sq and Adj R-Sq are comparative to the original model built on full data."
   ]
  },
  {
   "cell_type": "code",
   "execution_count": 49,
   "metadata": {},
   "outputs": [
    {
     "data": {
      "text/html": [
       "<dl class=dl-horizontal>\n",
       "\t<dt>1</dt>\n",
       "\t\t<dd>-5.39277609682301</dd>\n",
       "\t<dt>4</dt>\n",
       "\t\t<dd>7.55578668683811</dd>\n",
       "\t<dt>8</dt>\n",
       "\t\t<dd>20.5043494704992</dd>\n",
       "\t<dt>20</dt>\n",
       "\t\t<dd>37.769099848714</dd>\n",
       "\t<dt>26</dt>\n",
       "\t\t<dd>42.0852874432678</dd>\n",
       "\t<dt>31</dt>\n",
       "\t\t<dd>50.7176626323752</dd>\n",
       "\t<dt>37</dt>\n",
       "\t\t<dd>59.3500378214826</dd>\n",
       "\t<dt>39</dt>\n",
       "\t\t<dd>63.6662254160363</dd>\n",
       "\t<dt>40</dt>\n",
       "\t\t<dd>63.6662254160363</dd>\n",
       "\t<dt>42</dt>\n",
       "\t\t<dd>63.6662254160363</dd>\n",
       "</dl>\n"
      ],
      "text/latex": [
       "\\begin{description*}\n",
       "\\item[1] -5.39277609682301\n",
       "\\item[4] 7.55578668683811\n",
       "\\item[8] 20.5043494704992\n",
       "\\item[20] 37.769099848714\n",
       "\\item[26] 42.0852874432678\n",
       "\\item[31] 50.7176626323752\n",
       "\\item[37] 59.3500378214826\n",
       "\\item[39] 63.6662254160363\n",
       "\\item[40] 63.6662254160363\n",
       "\\item[42] 63.6662254160363\n",
       "\\end{description*}\n"
      ],
      "text/markdown": [
       "1\n",
       ":   -5.392776096823014\n",
       ":   7.555786686838118\n",
       ":   20.504349470499220\n",
       ":   37.76909984871426\n",
       ":   42.085287443267831\n",
       ":   50.717662632375237\n",
       ":   59.350037821482639\n",
       ":   63.666225416036340\n",
       ":   63.666225416036342\n",
       ":   63.6662254160363\n",
       "\n"
      ],
      "text/plain": [
       "        1         4         8        20        26        31        37        39 \n",
       "-5.392776  7.555787 20.504349 37.769100 42.085287 50.717663 59.350038 63.666225 \n",
       "       40        42 \n",
       "63.666225 63.666225 "
      ]
     },
     "metadata": {},
     "output_type": "display_data"
    }
   ],
   "source": [
    "distPred"
   ]
  },
  {
   "cell_type": "markdown",
   "metadata": {},
   "source": [
    "#### Calculate prediction accuracy"
   ]
  },
  {
   "cell_type": "markdown",
   "metadata": {},
   "source": [
    "A simple correlation between the actuals and predicted values can be used as a form of accuracy measure.  \n",
    "A higher correlation accuracy implies that the actuals and predicted values have similar directional movement, i.e. when the actuals values increase the predicted values also increase and vice-versa."
   ]
  },
  {
   "cell_type": "code",
   "execution_count": 50,
   "metadata": {},
   "outputs": [
    {
     "data": {
      "text/html": [
       "<table>\n",
       "<thead><tr><th></th><th scope=col>actuals</th><th scope=col>predicteds</th></tr></thead>\n",
       "<tbody>\n",
       "\t<tr><th scope=row>1</th><td> 2       </td><td>-5.392776</td></tr>\n",
       "\t<tr><th scope=row>4</th><td>22       </td><td> 7.555787</td></tr>\n",
       "\t<tr><th scope=row>8</th><td>26       </td><td>20.504349</td></tr>\n",
       "\t<tr><th scope=row>20</th><td>26       </td><td>37.769100</td></tr>\n",
       "\t<tr><th scope=row>26</th><td>54       </td><td>42.085287</td></tr>\n",
       "\t<tr><th scope=row>31</th><td>50       </td><td>50.717663</td></tr>\n",
       "</tbody>\n",
       "</table>\n"
      ],
      "text/latex": [
       "\\begin{tabular}{r|ll}\n",
       "  & actuals & predicteds\\\\\n",
       "\\hline\n",
       "\t1 &  2        & -5.392776\\\\\n",
       "\t4 & 22        &  7.555787\\\\\n",
       "\t8 & 26        & 20.504349\\\\\n",
       "\t20 & 26        & 37.769100\\\\\n",
       "\t26 & 54        & 42.085287\\\\\n",
       "\t31 & 50        & 50.717663\\\\\n",
       "\\end{tabular}\n"
      ],
      "text/markdown": [
       "\n",
       "| <!--/--> | actuals | predicteds | \n",
       "|---|---|---|---|---|---|\n",
       "| 1 |  2        | -5.392776 | \n",
       "| 4 | 22        |  7.555787 | \n",
       "| 8 | 26        | 20.504349 | \n",
       "| 20 | 26        | 37.769100 | \n",
       "| 26 | 54        | 42.085287 | \n",
       "| 31 | 50        | 50.717663 | \n",
       "\n",
       "\n"
      ],
      "text/plain": [
       "   actuals predicteds\n",
       "1   2      -5.392776 \n",
       "4  22       7.555787 \n",
       "8  26      20.504349 \n",
       "20 26      37.769100 \n",
       "26 54      42.085287 \n",
       "31 50      50.717663 "
      ]
     },
     "metadata": {},
     "output_type": "display_data"
    }
   ],
   "source": [
    "actuals_preds <- data.frame(cbind(actuals=testData$dist, predicteds=distPred))  # make actuals vs predicteds dataframe.\n",
    "head(actuals_preds)"
   ]
  },
  {
   "cell_type": "code",
   "execution_count": 51,
   "metadata": {},
   "outputs": [
    {
     "data": {
      "text/html": [
       "<table>\n",
       "<thead><tr><th></th><th scope=col>actuals</th><th scope=col>predicteds</th></tr></thead>\n",
       "<tbody>\n",
       "\t<tr><th scope=row>actuals</th><td>1.0000000</td><td>0.8277535</td></tr>\n",
       "\t<tr><th scope=row>predicteds</th><td>0.8277535</td><td>1.0000000</td></tr>\n",
       "</tbody>\n",
       "</table>\n"
      ],
      "text/latex": [
       "\\begin{tabular}{r|ll}\n",
       "  & actuals & predicteds\\\\\n",
       "\\hline\n",
       "\tactuals & 1.0000000 & 0.8277535\\\\\n",
       "\tpredicteds & 0.8277535 & 1.0000000\\\\\n",
       "\\end{tabular}\n"
      ],
      "text/markdown": [
       "\n",
       "| <!--/--> | actuals | predicteds | \n",
       "|---|---|\n",
       "| actuals | 1.0000000 | 0.8277535 | \n",
       "| predicteds | 0.8277535 | 1.0000000 | \n",
       "\n",
       "\n"
      ],
      "text/plain": [
       "           actuals   predicteds\n",
       "actuals    1.0000000 0.8277535 \n",
       "predicteds 0.8277535 1.0000000 "
      ]
     },
     "metadata": {},
     "output_type": "display_data"
    }
   ],
   "source": [
    "accuracy <- cor(actuals_preds)  # 82.7%\n",
    "accuracy"
   ]
  },
  {
   "cell_type": "code",
   "execution_count": null,
   "metadata": {},
   "outputs": [],
   "source": []
  }
 ],
 "metadata": {
  "kernelspec": {
   "display_name": "R",
   "language": "R",
   "name": "ir"
  },
  "language_info": {
   "codemirror_mode": "r",
   "file_extension": ".r",
   "mimetype": "text/x-r-source",
   "name": "R",
   "pygments_lexer": "r",
   "version": "3.4.4"
  }
 },
 "nbformat": 4,
 "nbformat_minor": 2
}
